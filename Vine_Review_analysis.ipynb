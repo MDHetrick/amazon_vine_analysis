{
 "cells": [
  {
   "cell_type": "code",
   "execution_count": 1,
   "id": "16242072",
   "metadata": {},
   "outputs": [],
   "source": [
    "# Dependencies and Setup\n",
    "import pandas as pd\n",
    "\n",
    "# File to Load \n",
    "file = 'Resources/vine_table.csv'"
   ]
  },
  {
   "cell_type": "code",
   "execution_count": 2,
   "id": "583ce180",
   "metadata": {},
   "outputs": [
    {
     "data": {
      "text/html": [
       "<div>\n",
       "<style scoped>\n",
       "    .dataframe tbody tr th:only-of-type {\n",
       "        vertical-align: middle;\n",
       "    }\n",
       "\n",
       "    .dataframe tbody tr th {\n",
       "        vertical-align: top;\n",
       "    }\n",
       "\n",
       "    .dataframe thead th {\n",
       "        text-align: right;\n",
       "    }\n",
       "</style>\n",
       "<table border=\"1\" class=\"dataframe\">\n",
       "  <thead>\n",
       "    <tr style=\"text-align: right;\">\n",
       "      <th></th>\n",
       "      <th>review_id</th>\n",
       "      <th>star_rating</th>\n",
       "      <th>helpful_votes</th>\n",
       "      <th>total_votes</th>\n",
       "      <th>vine</th>\n",
       "      <th>verified_purchase</th>\n",
       "    </tr>\n",
       "  </thead>\n",
       "  <tbody>\n",
       "    <tr>\n",
       "      <th>0</th>\n",
       "      <td>REAKC26P07MDN</td>\n",
       "      <td>5.0</td>\n",
       "      <td>0.0</td>\n",
       "      <td>0.0</td>\n",
       "      <td>N</td>\n",
       "      <td>Y</td>\n",
       "    </tr>\n",
       "    <tr>\n",
       "      <th>1</th>\n",
       "      <td>R3NU7OMZ4HQIEG</td>\n",
       "      <td>2.0</td>\n",
       "      <td>0.0</td>\n",
       "      <td>1.0</td>\n",
       "      <td>N</td>\n",
       "      <td>Y</td>\n",
       "    </tr>\n",
       "    <tr>\n",
       "      <th>2</th>\n",
       "      <td>R14QJW3XF8QO1P</td>\n",
       "      <td>5.0</td>\n",
       "      <td>0.0</td>\n",
       "      <td>0.0</td>\n",
       "      <td>N</td>\n",
       "      <td>Y</td>\n",
       "    </tr>\n",
       "    <tr>\n",
       "      <th>3</th>\n",
       "      <td>R2HB7AX0394ZGY</td>\n",
       "      <td>5.0</td>\n",
       "      <td>0.0</td>\n",
       "      <td>0.0</td>\n",
       "      <td>N</td>\n",
       "      <td>Y</td>\n",
       "    </tr>\n",
       "    <tr>\n",
       "      <th>4</th>\n",
       "      <td>RGKMPDQGSAHR3</td>\n",
       "      <td>5.0</td>\n",
       "      <td>0.0</td>\n",
       "      <td>0.0</td>\n",
       "      <td>N</td>\n",
       "      <td>Y</td>\n",
       "    </tr>\n",
       "  </tbody>\n",
       "</table>\n",
       "</div>"
      ],
      "text/plain": [
       "        review_id  star_rating  helpful_votes  total_votes vine  \\\n",
       "0   REAKC26P07MDN          5.0            0.0          0.0    N   \n",
       "1  R3NU7OMZ4HQIEG          2.0            0.0          1.0    N   \n",
       "2  R14QJW3XF8QO1P          5.0            0.0          0.0    N   \n",
       "3  R2HB7AX0394ZGY          5.0            0.0          0.0    N   \n",
       "4   RGKMPDQGSAHR3          5.0            0.0          0.0    N   \n",
       "\n",
       "  verified_purchase  \n",
       "0                 Y  \n",
       "1                 Y  \n",
       "2                 Y  \n",
       "3                 Y  \n",
       "4                 Y  "
      ]
     },
     "execution_count": 2,
     "metadata": {},
     "output_type": "execute_result"
    }
   ],
   "source": [
    "vine_df = pd.read_csv(file)\n",
    "\n",
    "vine_df.head()"
   ]
  },
  {
   "cell_type": "code",
   "execution_count": 3,
   "id": "271b2213",
   "metadata": {},
   "outputs": [
    {
     "data": {
      "text/plain": [
       "review_id            39376\n",
       "star_rating          39376\n",
       "helpful_votes        39376\n",
       "total_votes          39376\n",
       "vine                 39376\n",
       "verified_purchase    39376\n",
       "dtype: int64"
      ]
     },
     "execution_count": 3,
     "metadata": {},
     "output_type": "execute_result"
    }
   ],
   "source": [
    "filtered_vine_df = vine_df[(vine_df[\"total_votes\"] >= 20)]\n",
    "filtered_vine_df.head()  \n",
    "filtered_vine_df.count()"
   ]
  },
  {
   "cell_type": "code",
   "execution_count": 4,
   "id": "feb438f1",
   "metadata": {},
   "outputs": [
    {
     "data": {
      "text/plain": [
       "review_id            38010\n",
       "star_rating          38010\n",
       "helpful_votes        38010\n",
       "total_votes          38010\n",
       "vine                 38010\n",
       "verified_purchase    38010\n",
       "dtype: int64"
      ]
     },
     "execution_count": 4,
     "metadata": {},
     "output_type": "execute_result"
    }
   ],
   "source": [
    "helpful_df = filtered_vine_df[((filtered_vine_df['helpful_votes']/filtered_vine_df['total_votes']*100) >= 50)]\n",
    "helpful_df.head()\n",
    "helpful_df.count()"
   ]
  },
  {
   "cell_type": "code",
   "execution_count": 5,
   "id": "61b3d0e4",
   "metadata": {},
   "outputs": [
    {
     "data": {
      "text/plain": [
       "review_id            170\n",
       "star_rating          170\n",
       "helpful_votes        170\n",
       "total_votes          170\n",
       "vine                 170\n",
       "verified_purchase    170\n",
       "dtype: int64"
      ]
     },
     "execution_count": 5,
     "metadata": {},
     "output_type": "execute_result"
    }
   ],
   "source": [
    "vine_review_df = helpful_df[(helpful_df['vine'] == 'Y')]\n",
    "vine_review_df.count()"
   ]
  },
  {
   "cell_type": "code",
   "execution_count": 6,
   "id": "76d591ba",
   "metadata": {},
   "outputs": [
    {
     "data": {
      "text/plain": [
       "review_id            37840\n",
       "star_rating          37840\n",
       "helpful_votes        37840\n",
       "total_votes          37840\n",
       "vine                 37840\n",
       "verified_purchase    37840\n",
       "dtype: int64"
      ]
     },
     "execution_count": 6,
     "metadata": {},
     "output_type": "execute_result"
    }
   ],
   "source": [
    "non_vine_review_df = helpful_df[(helpful_df['vine'] == 'N')]\n",
    "non_vine_review_df.count()"
   ]
  },
  {
   "cell_type": "code",
   "execution_count": 7,
   "id": "5b5ce471",
   "metadata": {},
   "outputs": [
    {
     "data": {
      "text/plain": [
       "170"
      ]
     },
     "execution_count": 7,
     "metadata": {},
     "output_type": "execute_result"
    }
   ],
   "source": [
    "number_vine_reviews = vine_review_df['total_votes'].count()\n",
    "number_vine_reviews"
   ]
  },
  {
   "cell_type": "code",
   "execution_count": 8,
   "id": "52f8b54b",
   "metadata": {},
   "outputs": [
    {
     "data": {
      "text/plain": [
       "65"
      ]
     },
     "execution_count": 8,
     "metadata": {},
     "output_type": "execute_result"
    }
   ],
   "source": [
    "vine_5star = vine_review_df[(vine_review_df['star_rating'] >= 5)]\n",
    "vine_5star = vine_5star['star_rating'].count()\n",
    "vine_5star"
   ]
  },
  {
   "cell_type": "code",
   "execution_count": 9,
   "id": "639d4e75",
   "metadata": {},
   "outputs": [
    {
     "data": {
      "text/plain": [
       "38.23529411764706"
      ]
     },
     "execution_count": 9,
     "metadata": {},
     "output_type": "execute_result"
    }
   ],
   "source": [
    "percent_vine = (vine_5star/number_vine_reviews *100)\n",
    "percent_vine"
   ]
  },
  {
   "cell_type": "code",
   "execution_count": 10,
   "id": "fd93d594",
   "metadata": {},
   "outputs": [
    {
     "data": {
      "text/plain": [
       "37840"
      ]
     },
     "execution_count": 10,
     "metadata": {},
     "output_type": "execute_result"
    }
   ],
   "source": [
    "non_vine = non_vine_review_df['total_votes'].count()\n",
    "non_vine"
   ]
  },
  {
   "cell_type": "code",
   "execution_count": 11,
   "id": "0ca629b5",
   "metadata": {},
   "outputs": [
    {
     "data": {
      "text/plain": [
       "20612"
      ]
     },
     "execution_count": 11,
     "metadata": {},
     "output_type": "execute_result"
    }
   ],
   "source": [
    "non_vine_5 = non_vine_review_df[(non_vine_review_df['star_rating']>=5)]\n",
    "non_vine_5 = non_vine_5['star_rating'].count()\n",
    "non_vine_5"
   ]
  },
  {
   "cell_type": "code",
   "execution_count": 12,
   "id": "f774b6ff",
   "metadata": {},
   "outputs": [
    {
     "data": {
      "text/plain": [
       "54.471458773784356"
      ]
     },
     "execution_count": 12,
     "metadata": {},
     "output_type": "execute_result"
    }
   ],
   "source": [
    "percent_non_vine = non_vine_5 / non_vine * 100\n",
    "percent_non_vine"
   ]
  },
  {
   "cell_type": "code",
   "execution_count": null,
   "id": "9be2c84e",
   "metadata": {},
   "outputs": [],
   "source": []
  }
 ],
 "metadata": {
  "kernelspec": {
   "display_name": "Python 3 (ipykernel)",
   "language": "python",
   "name": "python3"
  },
  "language_info": {
   "codemirror_mode": {
    "name": "ipython",
    "version": 3
   },
   "file_extension": ".py",
   "mimetype": "text/x-python",
   "name": "python",
   "nbconvert_exporter": "python",
   "pygments_lexer": "ipython3",
   "version": "3.9.7"
  }
 },
 "nbformat": 4,
 "nbformat_minor": 5
}
